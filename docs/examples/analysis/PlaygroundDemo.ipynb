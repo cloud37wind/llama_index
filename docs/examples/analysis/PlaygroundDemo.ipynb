{
    "cells": [
        {
            "attachments": {},
            "cell_type": "markdown",
            "id": "af6397b2",
            "metadata": {},
            "source": [
                "# Playground"
            ]
        },
        {
            "cell_type": "code",
            "execution_count": 1,
            "id": "839c4a87",
            "metadata": {},
            "outputs": [
                {
                    "data": {
                        "text/plain": [
                            "True"
                        ]
                    },
                    "execution_count": 1,
                    "metadata": {},
                    "output_type": "execute_result"
                }
            ],
            "source": [
                "from dotenv import find_dotenv, load_dotenv\n",
                "\n",
                "load_dotenv(find_dotenv())"
            ]
        },
        {
            "cell_type": "code",
            "execution_count": 2,
            "id": "d726e871",
            "metadata": {},
            "outputs": [],
            "source": [
                "# Hide INFO logs regarding token usage, etc\n",
                "import logging\n",
                "logger = logging.getLogger()\n",
                "logger.setLevel(logging.CRITICAL)"
            ]
        },
        {
            "attachments": {},
            "cell_type": "markdown",
            "id": "40cf0773",
            "metadata": {},
            "source": [
                "## Setup\n",
                "\n",
                "### Generate some example Documents"
            ]
        },
        {
            "cell_type": "code",
            "execution_count": 3,
            "id": "fa34cd83",
            "metadata": {},
            "outputs": [],
            "source": [
                "from llama_index import download_loader\n",
                "from llama_index import (\n",
                "    GPTVectorStoreIndex as VectorStoreIndex,\n",
                "    GPTTreeIndex as TreeIndex\n",
                ")\n",
                "\n",
                "WikipediaReader = download_loader(\"WikipediaReader\")\n",
                "\n",
                "loader = WikipediaReader()\n",
                "documents = loader.load_data(pages=['Berlin'])"
            ]
        },
        {
            "attachments": {},
            "cell_type": "markdown",
            "id": "0c32392b",
            "metadata": {},
            "source": [
                "### Create a list of any sort of indices (custom LLMs, custom embeddings, etc)"
            ]
        },
        {
            "cell_type": "code",
            "execution_count": 4,
            "id": "f59e6c18",
            "metadata": {},
            "outputs": [],
            "source": [
                "indices = [VectorStoreIndex.from_documents(documents), TreeIndex.from_documents(documents)]"
            ]
        },
        {
            "attachments": {},
            "cell_type": "markdown",
            "id": "827ada33",
            "metadata": {},
            "source": [
                "## Using the Playground\n",
                "\n",
                "\n",
                "### Initialize with indices"
            ]
        },
        {
            "cell_type": "code",
            "execution_count": 5,
            "id": "a04e4535",
            "metadata": {},
            "outputs": [],
            "source": [
                "from llama_index.playground import Playground\n",
                "\n",
                "playground = Playground(indices=indices)"
            ]
        },
        {
            "cell_type": "code",
            "execution_count": 6,
            "id": "5f6999fc",
            "metadata": {},
            "outputs": [
                {
                    "name": "stdout",
                    "output_type": "stream",
                    "text": [
                        "\u001b[1mQuery:\u001b[0m\n",
                        "What is the population of Berlin?\n",
                        "\n",
                        "\u001b[1mGPTVectorStoreIndex\u001b[0m, retriever mode = default\n",
                        "\u001b[36;1m\u001b[1;3m\n",
                        "The population of Berlin is 3.7 million.\u001b[0m\n",
                        "\n",
                        "\u001b[1mGPTTreeIndex\u001b[0m, retriever mode = select_leaf\n",
                        "\u001b[33;1m\u001b[1;3m\n",
                        "It is not possible to answer this question with the given context information.\u001b[0m\n",
                        "\n",
                        "\u001b[1mGPTTreeIndex\u001b[0m, retriever mode = select_leaf_embedding\n",
                        "\u001b[33;1m\u001b[1;3m\n",
                        "The population of Berlin is approximately 3.7 million inhabitants.\u001b[0m\n",
                        "\n",
                        "\u001b[1mGPTTreeIndex\u001b[0m, retriever mode = all_leaf\n",
                        "\u001b[33;1m\u001b[1;3m\n",
                        "\n",
                        "The population of Berlin is estimated to be around 3.7 million inhabitants, making it the most populous city in Germany. It is home to a diverse population, with people from over 190 countries living in the city. The largest religious denomination recorded in 2018 was the Protestant regional church body—the Evangelical Church of Berlin-Brandenburg-Silesian Upper Lusatia (EKBO)—a united church. EKBO is a member of the Evangelical Church in Germany (EKD) and Union Evangelischer Kirchen (UEK). According to the EKBO, their membership accounted for 18.7 percent of the local population, while the Roman Catholic Church had 8.5 percent of residents registered as its members. About 2.7% of the population identify with other Christian denominations (mostly Eastern Orthodox, but also various Protestants). According to the Berlin residents register, in 2018 14.9 percent were members of the Evangelical Church, and 8.5 percent were members of the Catholic Church. In 2009, approximately 249,000 Muslims were reported by the Office of Statistics to be members of mosques and Islamic religious organizations in Berlin, while in 2016, the newspaper Der Tagesspiegel estimated that about 350,000 Muslims observed Ramadan in Berlin. In 2019, about 437,000 registered residents, 11.6% of the total, reported having a migration background from one of the Member states of the Organization of Islamic Cooperation. Berlin is also home to at least 180,000 Turkish and Turkish German residents, making it the largest Turkish community outside of Turkey. The faithful of the different religions and denominations maintain many places of worship in Berlin, including 36 Baptist congregations, 29 New Apostolic Churches, 15 United Methodist churches, eight Free Evangelical Congregations, four Churches of Christ, Scientist (1st, 2nd, 3rd, and 11th), six congregations of the Church of Jesus Christ of Latter-day Saints, an Old Catholic church, and an Anglican church. Berlin also has more than 80 mosques, ten synagogues, and two Buddhist temples. Berlin is the capital of the Federal Republic of Germany and the seat of the German Chancellor (Prime Minister), housed in the Chancellery building, the Bundeskanzleramt. The city is home to many international corporations, government ministries, and embassies, and is a major center of business, finance, tourism, and culture. Berlin is also a popular destination for conventions and conferences, hosting 195 international meetings in 2015. It is also well known for its numerous cafés, street musicians, beach bars along the Spree River, flea markets, boutique shops and pop-up stores, which are a source for recreation and leisure. Berlin is the host city for the 2006 FIFA World Cup final, the IAAF World Championships in Athletics, the Basketball Euroleague Final Four, the FIBA EuroBasket 2015, the UEFA Champions League Final, and the 2023 Special Olympics World Summer Games. Berlin is home to the oldest park in the city, the Volkspark in Friedrichshain, as well as the world's largest inner-city open space, Tempelhofer Feld. Potsdam, on the southwestern periphery of Berlin, is known for its interconnected lakes and cultural landmarks. Berliners are registered in over 2,300 sport and fitness clubs, and the city operates more than 60 public indoor and outdoor swimming pools. Professional clubs representing the most important spectator team sports in Germany, such as Hertha BSC, are based in Berlin.\u001b[0m\n",
                        "\n",
                        "\u001b[1mGPTTreeIndex\u001b[0m, retriever mode = root\n",
                        "\u001b[33;1m\u001b[1;3m\n",
                        "The population of Berlin is 3.7 million within city limits and 4.5 million in its urban area.\u001b[0m\n",
                        "\n",
                        "\n",
                        "Ran 5 combinations in total.\n"
                    ]
                },
                {
                    "data": {
                        "text/html": [
                            "<div>\n",
                            "<style scoped>\n",
                            "    .dataframe tbody tr th:only-of-type {\n",
                            "        vertical-align: middle;\n",
                            "    }\n",
                            "\n",
                            "    .dataframe tbody tr th {\n",
                            "        vertical-align: top;\n",
                            "    }\n",
                            "\n",
                            "    .dataframe thead th {\n",
                            "        text-align: right;\n",
                            "    }\n",
                            "</style>\n",
                            "<table border=\"1\" class=\"dataframe\">\n",
                            "  <thead>\n",
                            "    <tr style=\"text-align: right;\">\n",
                            "      <th></th>\n",
                            "      <th>Index</th>\n",
                            "      <th>Retriever Mode</th>\n",
                            "      <th>Output</th>\n",
                            "      <th>Duration</th>\n",
                            "      <th>LLM Tokens</th>\n",
                            "      <th>Embedding Tokens</th>\n",
                            "    </tr>\n",
                            "  </thead>\n",
                            "  <tbody>\n",
                            "    <tr>\n",
                            "      <th>0</th>\n",
                            "      <td>GPTVectorStoreIndex</td>\n",
                            "      <td>default</td>\n",
                            "      <td>\\nThe population of Berlin is 3.7 million.</td>\n",
                            "      <td>2.776464</td>\n",
                            "      <td>1799</td>\n",
                            "      <td>0</td>\n",
                            "    </tr>\n",
                            "    <tr>\n",
                            "      <th>1</th>\n",
                            "      <td>GPTTreeIndex</td>\n",
                            "      <td>select_leaf</td>\n",
                            "      <td>\\nIt is not possible to answer this question w...</td>\n",
                            "      <td>16.467436</td>\n",
                            "      <td>896</td>\n",
                            "      <td>0</td>\n",
                            "    </tr>\n",
                            "    <tr>\n",
                            "      <th>2</th>\n",
                            "      <td>GPTTreeIndex</td>\n",
                            "      <td>select_leaf_embedding</td>\n",
                            "      <td>\\nThe population of Berlin is approximately 3....</td>\n",
                            "      <td>10.731784</td>\n",
                            "      <td>913</td>\n",
                            "      <td>0</td>\n",
                            "    </tr>\n",
                            "    <tr>\n",
                            "      <th>3</th>\n",
                            "      <td>GPTTreeIndex</td>\n",
                            "      <td>all_leaf</td>\n",
                            "      <td>\\n\\nThe population of Berlin is estimated to b...</td>\n",
                            "      <td>733.014671</td>\n",
                            "      <td>38632</td>\n",
                            "      <td>0</td>\n",
                            "    </tr>\n",
                            "    <tr>\n",
                            "      <th>4</th>\n",
                            "      <td>GPTTreeIndex</td>\n",
                            "      <td>root</td>\n",
                            "      <td>\\nThe population of Berlin is 3.7 million with...</td>\n",
                            "      <td>3.582931</td>\n",
                            "      <td>696</td>\n",
                            "      <td>0</td>\n",
                            "    </tr>\n",
                            "  </tbody>\n",
                            "</table>\n",
                            "</div>"
                        ],
                        "text/plain": [
                            "                 Index         Retriever Mode  \\\n",
                            "0  GPTVectorStoreIndex                default   \n",
                            "1         GPTTreeIndex            select_leaf   \n",
                            "2         GPTTreeIndex  select_leaf_embedding   \n",
                            "3         GPTTreeIndex               all_leaf   \n",
                            "4         GPTTreeIndex                   root   \n",
                            "\n",
                            "                                              Output    Duration  LLM Tokens  \\\n",
                            "0         \\nThe population of Berlin is 3.7 million.    2.776464        1799   \n",
                            "1  \\nIt is not possible to answer this question w...   16.467436         896   \n",
                            "2  \\nThe population of Berlin is approximately 3....   10.731784         913   \n",
                            "3  \\n\\nThe population of Berlin is estimated to b...  733.014671       38632   \n",
                            "4  \\nThe population of Berlin is 3.7 million with...    3.582931         696   \n",
                            "\n",
                            "   Embedding Tokens  \n",
                            "0                 0  \n",
                            "1                 0  \n",
                            "2                 0  \n",
                            "3                 0  \n",
                            "4                 0  "
                        ]
                    },
                    "execution_count": 6,
                    "metadata": {},
                    "output_type": "execute_result"
                }
            ],
            "source": [
                "playground.compare(\"What is the population of Berlin?\")"
            ]
        },
        {
            "attachments": {},
            "cell_type": "markdown",
            "id": "8829a829",
            "metadata": {},
            "source": [
                "### Initialize with Documents"
            ]
        },
        {
            "cell_type": "code",
            "execution_count": null,
            "id": "dfbc8ade",
            "metadata": {},
            "outputs": [],
            "source": [
                "# Uses documents in a preset list of indices\n",
                "playground = Playground.from_docs(documents=documents)"
            ]
        },
        {
            "attachments": {},
            "cell_type": "markdown",
            "id": "8521a111",
            "metadata": {},
            "source": [
                "### Save the indices for future use"
            ]
        },
        {
            "cell_type": "code",
            "execution_count": 2,
            "id": "592f2802",
            "metadata": {},
            "outputs": [],
            "source": [
                "tree_index_persist_dir = '/media/sunhuawei/data/files/gpt_tree_index/wikipedia/berlin'\n",
                "vector_index_persist_dir = '/media/sunhuawei/data/files/gpt_vector_store_index/wikipedia/berlin'"
            ]
        },
        {
            "cell_type": "code",
            "execution_count": 11,
            "id": "eda364de",
            "metadata": {},
            "outputs": [],
            "source": [
                "indices[0].storage_context.persist(persist_dir=vector_index_persist_dir)\n",
                "indices[1].storage_context.persist(persist_dir=tree_index_persist_dir)"
            ]
        },
        {
            "attachments": {},
            "cell_type": "markdown",
            "id": "348dcde8",
            "metadata": {},
            "source": [
                "### Reload from disk"
            ]
        },
        {
            "cell_type": "code",
            "execution_count": 12,
            "id": "a4cb37f3",
            "metadata": {},
            "outputs": [],
            "source": [
                "from llama_index import StorageContext, load_index_from_storage\n",
                "\n",
                "# rebuild storage context\n",
                "storage_context = StorageContext.from_defaults(persist_dir=tree_index_persist_dir)\n",
                "\n",
                "# load index\n",
                "tree_index = load_index_from_storage(storage_context)"
            ]
        },
        {
            "attachments": {},
            "cell_type": "markdown",
            "id": "f149792d",
            "metadata": {},
            "source": [
                "### Query the index"
            ]
        },
        {
            "cell_type": "code",
            "execution_count": 44,
            "id": "0cb3fe78",
            "metadata": {},
            "outputs": [
                {
                    "name": "stdout",
                    "output_type": "stream",
                    "text": [
                        "\n",
                        "The population of Berlin is 3.7 million.\n",
                        "> Source (Doc id: d13ab134-ce57-4db4-8339-c6695874e917): Berlin ( bur-LIN, German: [bɛʁˈliːn] (listen)) is the capital and largest city of Germany by both...\n",
                        "\n",
                        "> Source (Doc id: 630cf07e-5c52-4ee3-ac56-601b37992237): western part, underlining the US support for West Berlin. Berlin was completely divided. Although...\n"
                    ]
                }
            ],
            "source": [
                "query_engine = tree_index.as_query_engine(child_branch_factor=2)\n",
                "response = query_engine.query('What is the population of Berlin?')\n",
                "print(response)\n",
                "print(response.get_formatted_sources())"
            ]
        },
        {
            "cell_type": "code",
            "execution_count": 16,
            "id": "721aa559",
            "metadata": {},
            "outputs": [],
            "source": [
                "from llama_index import ResponseSynthesizer\n",
                "from llama_index.indices.postprocessor import KeywordNodePostprocessor, PrevNextNodePostprocessor, SimilarityPostprocessor\n",
                "from llama_index.query_engine import RetrieverQueryEngine\n",
                "from llama_index.retrievers import VectorIndexRetriever"
            ]
        },
        {
            "cell_type": "code",
            "execution_count": 17,
            "id": "903ee186",
            "metadata": {},
            "outputs": [
                {
                    "name": "stdout",
                    "output_type": "stream",
                    "text": [
                        "\n",
                        "The population of Berlin is 3.7 million.\n"
                    ]
                }
            ],
            "source": [
                "storage_cxt = StorageContext.from_defaults(persist_dir=vector_index_persist_dir)\n",
                "vector_index = load_index_from_storage(storage_cxt)\n",
                "query_engine = vector_index.as_query_engine()\n",
                "response = query_engine.query('What is the population of Berlin?')\n",
                "print(response)"
            ]
        },
        {
            "cell_type": "code",
            "execution_count": 3,
            "id": "950bce88",
            "metadata": {},
            "outputs": [],
            "source": [
                "from llama_index import SimpleDirectoryReader\n",
                "filename_fn = lambda filename: {'file_name': filename}\n",
                "\n",
                "# automatically sets the extra_info of each document according to filename_fn\n",
                "documents = SimpleDirectoryReader(vector_index_persist_dir, file_metadata=filename_fn, filename_as_id=True).load_data()"
            ]
        },
        {
            "cell_type": "code",
            "execution_count": 4,
            "id": "7b727388",
            "metadata": {},
            "outputs": [
                {
                    "data": {
                        "text/plain": [
                            "{'file_name': '/media/sunhuawei/data/files/gpt_vector_store_index/wikipedia/berlin/docstore.json'}"
                        ]
                    },
                    "execution_count": 4,
                    "metadata": {},
                    "output_type": "execute_result"
                }
            ],
            "source": [
                "documents[0].extra_info"
            ]
        },
        {
            "cell_type": "code",
            "execution_count": 5,
            "id": "5e9edf81",
            "metadata": {},
            "outputs": [
                {
                    "data": {
                        "text/plain": [
                            "'file_name: /media/sunhuawei/data/files/gpt_vector_store_index/wikipedia/berlin/docstore.json'"
                        ]
                    },
                    "execution_count": 5,
                    "metadata": {},
                    "output_type": "execute_result"
                }
            ],
            "source": [
                "documents[0].extra_info_str"
            ]
        },
        {
            "cell_type": "code",
            "execution_count": 6,
            "id": "9dcd71e1",
            "metadata": {},
            "outputs": [
                {
                    "data": {
                        "text/plain": [
                            "'/media/sunhuawei/data/files/gpt_vector_store_index/wikipedia/berlin/docstore.json'"
                        ]
                    },
                    "execution_count": 6,
                    "metadata": {},
                    "output_type": "execute_result"
                }
            ],
            "source": [
                "documents[0].doc_id"
            ]
        },
        {
            "cell_type": "code",
            "execution_count": null,
            "id": "d2ff40fa",
            "metadata": {},
            "outputs": [],
            "source": []
        }
    ],
    "metadata": {
        "kernelspec": {
            "display_name": "Python 3 (ipykernel)",
            "language": "python",
            "name": "python3"
        },
        "language_info": {
            "codemirror_mode": {
                "name": "ipython",
                "version": 3
            },
            "file_extension": ".py",
            "mimetype": "text/x-python",
            "name": "python",
            "nbconvert_exporter": "python",
            "pygments_lexer": "ipython3",
            "version": "3.10.9"
        }
    },
    "nbformat": 4,
    "nbformat_minor": 5
}
